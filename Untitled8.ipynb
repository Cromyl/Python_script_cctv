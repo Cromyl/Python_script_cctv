{
  "nbformat": 4,
  "nbformat_minor": 0,
  "metadata": {
    "colab": {
      "provenance": []
    },
    "kernelspec": {
      "name": "python3",
      "display_name": "Python 3"
    },
    "language_info": {
      "name": "python"
    }
  },
  "cells": [
    {
      "cell_type": "code",
      "source": [
        "\n",
        "!wget https://github.com/patrick013/Object-Detection---Yolov3/raw/master/model/yolov3.weights\n",
        "!wget https://github.com/pjreddie/darknet/raw/master/cfg/yolov3.cfg\n",
        "!pip install -r requirements.txt"
      ],
      "metadata": {
        "colab": {
          "base_uri": "https://localhost:8080/"
        },
        "id": "0F7kERbr3niV",
        "outputId": "cceac481-d42e-48e7-da6a-f5ba2753afbe"
      },
      "execution_count": 4,
      "outputs": [
        {
          "output_type": "stream",
          "name": "stdout",
          "text": [
            "--2024-11-16 06:12:41--  https://github.com/patrick013/Object-Detection---Yolov3/raw/master/model/yolov3.weights\n",
            "Resolving github.com (github.com)... 140.82.113.3\n",
            "Connecting to github.com (github.com)|140.82.113.3|:443... connected.\n",
            "HTTP request sent, awaiting response... 302 Found\n",
            "Location: https://media.githubusercontent.com/media/patrick013/Object-Detection---Yolov3/master/model/yolov3.weights [following]\n",
            "--2024-11-16 06:12:41--  https://media.githubusercontent.com/media/patrick013/Object-Detection---Yolov3/master/model/yolov3.weights\n",
            "Resolving media.githubusercontent.com (media.githubusercontent.com)... 185.199.108.133, 185.199.109.133, 185.199.110.133, ...\n",
            "Connecting to media.githubusercontent.com (media.githubusercontent.com)|185.199.108.133|:443... connected.\n",
            "HTTP request sent, awaiting response... 200 OK\n",
            "Length: 248007048 (237M) [application/octet-stream]\n",
            "Saving to: ‘yolov3.weights.1’\n",
            "\n",
            "yolov3.weights.1    100%[===================>] 236.52M   217MB/s    in 1.1s    \n",
            "\n",
            "2024-11-16 06:12:45 (217 MB/s) - ‘yolov3.weights.1’ saved [248007048/248007048]\n",
            "\n",
            "--2024-11-16 06:12:46--  https://github.com/pjreddie/darknet/raw/master/cfg/yolov3.cfg\n",
            "Resolving github.com (github.com)... 140.82.114.4\n",
            "Connecting to github.com (github.com)|140.82.114.4|:443... connected.\n",
            "HTTP request sent, awaiting response... 302 Found\n",
            "Location: https://raw.githubusercontent.com/pjreddie/darknet/master/cfg/yolov3.cfg [following]\n",
            "--2024-11-16 06:12:46--  https://raw.githubusercontent.com/pjreddie/darknet/master/cfg/yolov3.cfg\n",
            "Resolving raw.githubusercontent.com (raw.githubusercontent.com)... 185.199.108.133, 185.199.109.133, 185.199.110.133, ...\n",
            "Connecting to raw.githubusercontent.com (raw.githubusercontent.com)|185.199.108.133|:443... connected.\n",
            "HTTP request sent, awaiting response... 200 OK\n",
            "Length: 8342 (8.1K) [text/plain]\n",
            "Saving to: ‘yolov3.cfg.1’\n",
            "\n",
            "yolov3.cfg.1        100%[===================>]   8.15K  --.-KB/s    in 0s      \n",
            "\n",
            "2024-11-16 06:12:46 (50.2 MB/s) - ‘yolov3.cfg.1’ saved [8342/8342]\n",
            "\n",
            "Requirement already satisfied: numpy==1.24.4 in /usr/local/lib/python3.10/dist-packages (from -r requirements.txt (line 1)) (1.24.4)\n",
            "Requirement already satisfied: opencv-python==4.10.0.84 in /usr/local/lib/python3.10/dist-packages (from -r requirements.txt (line 2)) (4.10.0.84)\n",
            "Requirement already satisfied: torch==2.2.2 in /usr/local/lib/python3.10/dist-packages (from -r requirements.txt (line 3)) (2.2.2)\n",
            "Requirement already satisfied: websockets==14.0 in /usr/local/lib/python3.10/dist-packages (from -r requirements.txt (line 4)) (14.0)\n",
            "Requirement already satisfied: yt-dlp==2024.11.4 in /usr/local/lib/python3.10/dist-packages (from -r requirements.txt (line 5)) (2024.11.4)\n",
            "Requirement already satisfied: facenet-pytorch==2.6.0 in /usr/local/lib/python3.10/dist-packages (from -r requirements.txt (line 6)) (2.6.0)\n",
            "Requirement already satisfied: filelock in /usr/local/lib/python3.10/dist-packages (from torch==2.2.2->-r requirements.txt (line 3)) (3.16.1)\n",
            "Requirement already satisfied: typing-extensions>=4.8.0 in /usr/local/lib/python3.10/dist-packages (from torch==2.2.2->-r requirements.txt (line 3)) (4.12.2)\n",
            "Requirement already satisfied: sympy in /usr/local/lib/python3.10/dist-packages (from torch==2.2.2->-r requirements.txt (line 3)) (1.13.1)\n",
            "Requirement already satisfied: networkx in /usr/local/lib/python3.10/dist-packages (from torch==2.2.2->-r requirements.txt (line 3)) (3.4.2)\n",
            "Requirement already satisfied: jinja2 in /usr/local/lib/python3.10/dist-packages (from torch==2.2.2->-r requirements.txt (line 3)) (3.1.4)\n",
            "Requirement already satisfied: fsspec in /usr/local/lib/python3.10/dist-packages (from torch==2.2.2->-r requirements.txt (line 3)) (2024.10.0)\n",
            "Requirement already satisfied: nvidia-cuda-nvrtc-cu12==12.1.105 in /usr/local/lib/python3.10/dist-packages (from torch==2.2.2->-r requirements.txt (line 3)) (12.1.105)\n",
            "Requirement already satisfied: nvidia-cuda-runtime-cu12==12.1.105 in /usr/local/lib/python3.10/dist-packages (from torch==2.2.2->-r requirements.txt (line 3)) (12.1.105)\n",
            "Requirement already satisfied: nvidia-cuda-cupti-cu12==12.1.105 in /usr/local/lib/python3.10/dist-packages (from torch==2.2.2->-r requirements.txt (line 3)) (12.1.105)\n",
            "Requirement already satisfied: nvidia-cudnn-cu12==8.9.2.26 in /usr/local/lib/python3.10/dist-packages (from torch==2.2.2->-r requirements.txt (line 3)) (8.9.2.26)\n",
            "Requirement already satisfied: nvidia-cublas-cu12==12.1.3.1 in /usr/local/lib/python3.10/dist-packages (from torch==2.2.2->-r requirements.txt (line 3)) (12.1.3.1)\n",
            "Requirement already satisfied: nvidia-cufft-cu12==11.0.2.54 in /usr/local/lib/python3.10/dist-packages (from torch==2.2.2->-r requirements.txt (line 3)) (11.0.2.54)\n",
            "Requirement already satisfied: nvidia-curand-cu12==10.3.2.106 in /usr/local/lib/python3.10/dist-packages (from torch==2.2.2->-r requirements.txt (line 3)) (10.3.2.106)\n",
            "Requirement already satisfied: nvidia-cusolver-cu12==11.4.5.107 in /usr/local/lib/python3.10/dist-packages (from torch==2.2.2->-r requirements.txt (line 3)) (11.4.5.107)\n",
            "Requirement already satisfied: nvidia-cusparse-cu12==12.1.0.106 in /usr/local/lib/python3.10/dist-packages (from torch==2.2.2->-r requirements.txt (line 3)) (12.1.0.106)\n",
            "Requirement already satisfied: nvidia-nccl-cu12==2.19.3 in /usr/local/lib/python3.10/dist-packages (from torch==2.2.2->-r requirements.txt (line 3)) (2.19.3)\n",
            "Requirement already satisfied: nvidia-nvtx-cu12==12.1.105 in /usr/local/lib/python3.10/dist-packages (from torch==2.2.2->-r requirements.txt (line 3)) (12.1.105)\n",
            "Requirement already satisfied: triton==2.2.0 in /usr/local/lib/python3.10/dist-packages (from torch==2.2.2->-r requirements.txt (line 3)) (2.2.0)\n",
            "Requirement already satisfied: Pillow<10.3.0,>=10.2.0 in /usr/local/lib/python3.10/dist-packages (from facenet-pytorch==2.6.0->-r requirements.txt (line 6)) (10.2.0)\n",
            "Requirement already satisfied: requests<3.0.0,>=2.0.0 in /usr/local/lib/python3.10/dist-packages (from facenet-pytorch==2.6.0->-r requirements.txt (line 6)) (2.32.3)\n",
            "Requirement already satisfied: torchvision<0.18.0,>=0.17.0 in /usr/local/lib/python3.10/dist-packages (from facenet-pytorch==2.6.0->-r requirements.txt (line 6)) (0.17.2)\n",
            "Requirement already satisfied: tqdm<5.0.0,>=4.0.0 in /usr/local/lib/python3.10/dist-packages (from facenet-pytorch==2.6.0->-r requirements.txt (line 6)) (4.66.6)\n",
            "Requirement already satisfied: nvidia-nvjitlink-cu12 in /usr/local/lib/python3.10/dist-packages (from nvidia-cusolver-cu12==11.4.5.107->torch==2.2.2->-r requirements.txt (line 3)) (12.6.77)\n",
            "Requirement already satisfied: charset-normalizer<4,>=2 in /usr/local/lib/python3.10/dist-packages (from requests<3.0.0,>=2.0.0->facenet-pytorch==2.6.0->-r requirements.txt (line 6)) (3.4.0)\n",
            "Requirement already satisfied: idna<4,>=2.5 in /usr/local/lib/python3.10/dist-packages (from requests<3.0.0,>=2.0.0->facenet-pytorch==2.6.0->-r requirements.txt (line 6)) (3.10)\n",
            "Requirement already satisfied: urllib3<3,>=1.21.1 in /usr/local/lib/python3.10/dist-packages (from requests<3.0.0,>=2.0.0->facenet-pytorch==2.6.0->-r requirements.txt (line 6)) (2.2.3)\n",
            "Requirement already satisfied: certifi>=2017.4.17 in /usr/local/lib/python3.10/dist-packages (from requests<3.0.0,>=2.0.0->facenet-pytorch==2.6.0->-r requirements.txt (line 6)) (2024.8.30)\n",
            "Requirement already satisfied: MarkupSafe>=2.0 in /usr/local/lib/python3.10/dist-packages (from jinja2->torch==2.2.2->-r requirements.txt (line 3)) (3.0.2)\n",
            "Requirement already satisfied: mpmath<1.4,>=1.1.0 in /usr/local/lib/python3.10/dist-packages (from sympy->torch==2.2.2->-r requirements.txt (line 3)) (1.3.0)\n"
          ]
        }
      ]
    },
    {
      "cell_type": "code",
      "source": [
        "import gdown\n",
        "\n",
        "# Direct Google Drive file ID\n",
        "file_id = '1lAAQn2OzUf3oroEzuyQRUAvP7vjWXJBQ'\n",
        "output_path = 'face_detection_cctv.py'\n",
        "\n",
        "# Download the file\n",
        "gdown.download(f'https://drive.google.com/uc?export=download&id={file_id}', output_path, quiet=False)\n"
      ],
      "metadata": {
        "colab": {
          "base_uri": "https://localhost:8080/",
          "height": 142
        },
        "id": "G-i7jZKLjvTG",
        "outputId": "ec4d8cbb-8f31-4dee-eff1-fa1131216fff"
      },
      "execution_count": 5,
      "outputs": [
        {
          "output_type": "stream",
          "name": "stderr",
          "text": [
            "Downloading...\n",
            "From (original): https://drive.google.com/uc?export=download&id=1lAAQn2OzUf3oroEzuyQRUAvP7vjWXJBQ\n",
            "From (redirected): https://drive.google.com/uc?export=download&id=1lAAQn2OzUf3oroEzuyQRUAvP7vjWXJBQ&confirm=t&uuid=920d8c19-1a21-40b5-a2a0-e0d856574168\n",
            "To: /content/face_detection_cctv.py\n",
            "100%|██████████| 10.2k/10.2k [00:00<00:00, 19.5MB/s]\n"
          ]
        },
        {
          "output_type": "execute_result",
          "data": {
            "text/plain": [
              "'face_detection_cctv.py'"
            ],
            "application/vnd.google.colaboratory.intrinsic+json": {
              "type": "string"
            }
          },
          "metadata": {},
          "execution_count": 5
        }
      ]
    },
    {
      "cell_type": "code",
      "source": [
        "!python face_detection_cctv.py"
      ],
      "metadata": {
        "colab": {
          "base_uri": "https://localhost:8080/"
        },
        "id": "f_oAVJa7kgka",
        "outputId": "052d1970-ea6a-4659-da85-1fc28c9a92fc"
      },
      "execution_count": 6,
      "outputs": [
        {
          "output_type": "stream",
          "name": "stdout",
          "text": [
            "Traceback (most recent call last):\n",
            "  File \"/content/face_detection_cctv.py\", line 272, in <module>\n",
            "    stream_url = get_youtube_video_url(youtube_url)\n",
            "  File \"/content/face_detection_cctv.py\", line 70, in get_youtube_video_url\n",
            "    with youtube_dl.YoutubeDL(ydl_opts) as ydl:\n",
            "  File \"/usr/local/lib/python3.10/dist-packages/yt_dlp/YoutubeDL.py\", line 775, in __init__\n",
            "    self.add_default_info_extractors()\n",
            "  File \"/usr/local/lib/python3.10/dist-packages/yt_dlp/YoutubeDL.py\", line 870, in add_default_info_extractors\n",
            "    all_ies = {ie.IE_NAME.lower(): ie for ie in gen_extractor_classes()}\n",
            "  File \"/usr/local/lib/python3.10/dist-packages/yt_dlp/extractor/__init__.py\", line 11, in gen_extractor_classes\n",
            "    from .extractors import _ALL_CLASSES\n",
            "  File \"/usr/local/lib/python3.10/dist-packages/yt_dlp/extractor/extractors.py\", line 12, in <module>\n",
            "    from .lazy_extractors import *  # noqa: F403\n",
            "  File \"/usr/local/lib/python3.10/dist-packages/yt_dlp/extractor/lazy_extractors.py\", line 1211, in <module>\n",
            "    class AZMedienIE(LazyLoadExtractor):\n",
            "KeyboardInterrupt\n",
            "Connected to the WebSocket server\n",
            "^C\n"
          ]
        }
      ]
    }
  ]
}